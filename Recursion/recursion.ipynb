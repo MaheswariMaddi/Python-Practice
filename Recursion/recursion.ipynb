{
 "cells": [
  {
   "cell_type": "markdown",
   "metadata": {},
   "source": [
    "Recursion: A function calling itself is called Recursion.\n",
    "\n",
    "Adv:\n",
    "It reduces number of lines of code.\n",
    "It divides a big problem into smaller problems.\n",
    "\n",
    "DisAdv:\n",
    "It is memory intensive.\n",
    "It is complex to debug.\n",
    "\n",
    "Note: Every recursive function should have a base condition or exit condition."
   ]
  },
  {
   "cell_type": "code",
   "execution_count": 2,
   "metadata": {},
   "outputs": [
    {
     "name": "stdout",
     "output_type": "stream",
     "text": [
      "15\n"
     ]
    }
   ],
   "source": [
    "# Sum of n numbers\n",
    "def sumOf(n):\n",
    "    if(n==1):\n",
    "        return 1\n",
    "    return n + sumOf(n-1)\n",
    "\n",
    "print(sumOf(5))"
   ]
  },
  {
   "cell_type": "code",
   "execution_count": 8,
   "metadata": {},
   "outputs": [
    {
     "name": "stdout",
     "output_type": "stream",
     "text": [
      "6798\n"
     ]
    }
   ],
   "source": [
    "# Reverse a number\n",
    "\n",
    "def Reverse(n,sum=0):\n",
    "    if(n == 0):\n",
    "        return sum\n",
    "    d = n%10\n",
    "    sum = sum * 10 + d\n",
    "    return Reverse(n//10,sum)\n",
    "print(Reverse(8976))\n"
   ]
  },
  {
   "cell_type": "code",
   "execution_count": 3,
   "metadata": {},
   "outputs": [
    {
     "name": "stdout",
     "output_type": "stream",
     "text": [
      "120\n"
     ]
    }
   ],
   "source": [
    "# Factorial of N\n",
    "def fact(n):\n",
    "    if(n==1):\n",
    "        return 1\n",
    "    return n*fact(n-1)\n",
    "print(fact(5))"
   ]
  },
  {
   "cell_type": "code",
   "execution_count": null,
   "metadata": {},
   "outputs": [],
   "source": [
    "# Febinocci series"
   ]
  },
  {
   "cell_type": "code",
   "execution_count": 10,
   "metadata": {},
   "outputs": [
    {
     "name": "stdout",
     "output_type": "stream",
     "text": [
      "[0, 1, 8, 9, 23, 34, 56, 100]\n"
     ]
    }
   ],
   "source": [
    "#bubble sort for Ascending order.\n",
    "b=[56,8,1,0,100,34,23,9]\n",
    "flag=1\n",
    "l=len(b)\n",
    "i=0\n",
    "while(i<l and flag==1):\n",
    "    flag=0\n",
    "    for j in range(0,l-i-1):\n",
    "        if(b[j]>b[j+1]):\n",
    "            flag=1\n",
    "            t=b[j]\n",
    "            b[j]=b[j+1]\n",
    "            b[j+1]=t\n",
    "    i+=1\n",
    "print(b)\n",
    "\n"
   ]
  },
  {
   "cell_type": "code",
   "execution_count": 5,
   "metadata": {},
   "outputs": [
    {
     "name": "stdout",
     "output_type": "stream",
     "text": [
      "['My', 'Name', 'Is', 'Maheswari']\n",
      "my name is maheswari\n",
      "MY NAME IS MAHESWARI\n",
      "1\n"
     ]
    }
   ],
   "source": [
    "# string methods\n",
    "s=\"My Name Is Maheswari\"\n",
    "x=s.split(\" \")\n",
    "print(x)\n",
    "l=s.lower()\n",
    "print(l)\n",
    "u=s.upper()\n",
    "print(u)\n",
    "c=s.count(s)\n",
    "print(c)"
   ]
  },
  {
   "cell_type": "code",
   "execution_count": 8,
   "metadata": {},
   "outputs": [
    {
     "name": "stdout",
     "output_type": "stream",
     "text": [
      "23 56 8\n",
      "12\n"
     ]
    }
   ],
   "source": [
    "#find Second small no in the list if list have 2 minimum no's.\n",
    "n=[23,56,78,90,1,12,34,1]\n",
    "l=len(n)\n",
    "small=min(n[0],n[1])\n",
    "next_small=max(n[0],n[1])\n",
    "print(small,next_small,l)\n",
    "for i in range(2,l):\n",
    "\tif(n[i]<small):\n",
    "\t\tnext_small=small\n",
    "\t\tsmall=n[i]\n",
    "\telif(n[i]<next_small and small!=n[i]):\n",
    "\t\tnext_small=n[i]\n",
    "print(next_small)"
   ]
  }
 ],
 "metadata": {
  "kernelspec": {
   "display_name": "Python 3",
   "language": "python",
   "name": "python3"
  },
  "language_info": {
   "codemirror_mode": {
    "name": "ipython",
    "version": 3
   },
   "file_extension": ".py",
   "mimetype": "text/x-python",
   "name": "python",
   "nbconvert_exporter": "python",
   "pygments_lexer": "ipython3",
   "version": "3.12.2"
  }
 },
 "nbformat": 4,
 "nbformat_minor": 2
}
