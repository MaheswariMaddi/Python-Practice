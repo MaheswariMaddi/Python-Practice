{
 "cells": [
  {
   "cell_type": "code",
   "execution_count": 6,
   "metadata": {},
   "outputs": [
    {
     "name": "stdout",
     "output_type": "stream",
     "text": [
      "gova\n",
      "apple\n",
      "kevi\n",
      "mango\n"
     ]
    }
   ],
   "source": [
    "#print list of elements by using while loop\n",
    "\n",
    "fruits=[\"gova\",\"apple\",\"kevi\",\"mango\"]\n",
    "i=0\n",
    "while(i<len(fruits)):\n",
    "    \n",
    "    print(fruits[i])\n",
    "    i+=1"
   ]
  },
  {
   "cell_type": "code",
   "execution_count": 11,
   "metadata": {},
   "outputs": [
    {
     "name": "stdout",
     "output_type": "stream",
     "text": [
      "1 3 5 7 9 "
     ]
    }
   ],
   "source": [
    "#print n numbers\n",
    "i=1\n",
    "while(i<=10):\n",
    "    print(i,end=' ')\n",
    "    i+=2"
   ]
  },
  {
   "cell_type": "code",
   "execution_count": 25,
   "metadata": {},
   "outputs": [
    {
     "name": "stdout",
     "output_type": "stream",
     "text": [
      "5 7 10 14 15 20 21 25 28 30 35 40 42 45 49 50 "
     ]
    }
   ],
   "source": [
    "i=1\n",
    "while(i<=50):\n",
    "    \n",
    "    if i%5==0 or i%7==0:\n",
    "        \n",
    "        print(i,end=' ')\n",
    "    i+=1\n",
    "        "
   ]
  },
  {
   "cell_type": "code",
   "execution_count": 6,
   "metadata": {},
   "outputs": [
    {
     "name": "stdout",
     "output_type": "stream",
     "text": [
      "sumation of no 1240\n"
     ]
    }
   ],
   "source": [
    "# Python program example to show the use of while loop   \n",
    "num=15\n",
    "sum=0\n",
    "i=1\n",
    "while(i<=num):\n",
    "    sum=sum+i**2\n",
    "    i+=1\n",
    "print(f\"sumation of no {sum}\")\n",
    "    "
   ]
  },
  {
   "cell_type": "code",
   "execution_count": null,
   "metadata": {},
   "outputs": [],
   "source": [
    "# prime program\n",
    "num=[56,51,61,5,7,11,25]\n",
    "c=0\n",
    "iteration=2\n",
    "for i in num-1:\n",
    "    while(i%(num-1)==0):\n",
    "        print(\"not a prime\")\n",
    "        "
   ]
  }
 ],
 "metadata": {
  "kernelspec": {
   "display_name": "Python 3",
   "language": "python",
   "name": "python3"
  },
  "language_info": {
   "codemirror_mode": {
    "name": "ipython",
    "version": 3
   },
   "file_extension": ".py",
   "mimetype": "text/x-python",
   "name": "python",
   "nbconvert_exporter": "python",
   "pygments_lexer": "ipython3",
   "version": "3.10.11"
  },
  "orig_nbformat": 4
 },
 "nbformat": 4,
 "nbformat_minor": 2
}
