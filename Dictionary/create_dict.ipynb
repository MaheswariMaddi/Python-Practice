{
 "cells": [
  {
   "cell_type": "code",
   "execution_count": null,
   "metadata": {},
   "outputs": [],
   "source": [
    "#Create dict by user input using for loop.\n",
    "create_dict={}\n",
    "no=int(input(\"Enter no of items to create dict:\"))\n",
    "for dic in range(1,no+1):\n",
    "    keys=input(\"Enter the Keys:\")\n",
    "    Values=input(\"Enter the values:\")\n",
    "    create_dict[keys]=Values\n",
    "print(create_dict)    "
   ]
  },
  {
   "cell_type": "code",
   "execution_count": 2,
   "metadata": {},
   "outputs": [
    {
     "name": "stdout",
     "output_type": "stream",
     "text": [
      "list of dicts: [{'1': '1'}]\n",
      "dictionary values rom list of dicts: [dict_values(['1'])]\n"
     ]
    }
   ],
   "source": [
    "#write pyrhon to combine values in a list of dictionary\n",
    "num=int(input(\"Enter the value no of dictionaries in the list\"))\n",
    "l1=[]\n",
    "for i in range(0,num):\n",
    "    create_dict={}\n",
    "    no=no=int(input(\"Enter no of items to create dict:\"))\n",
    "    for dic in range(1,no+1):\n",
    "        keys=input(\"Enter the Keys:\")\n",
    "        Values=input(\"Enter the values:\")\n",
    "        create_dict[keys]=Values\n",
    "    list.append(create_dict)   \n",
    "print(\"list of dicts:\",l1)   \n",
    "value=[]\n",
    "s=[]\n",
    "for i in range(0,len(lists)):\n",
    "   m=lists[i].values()\n",
    "   s=s+list(m)  \n",
    "print(s)"
   ]
  },
  {
   "cell_type": "code",
   "execution_count": 1,
   "metadata": {},
   "outputs": [
    {
     "name": "stdout",
     "output_type": "stream",
     "text": [
      "[('3', '2'), 78, '2']\n"
     ]
    }
   ],
   "source": [
    "lists=[{'1': ('3','2'),2:78},{'3':'2'}]\n",
    "value=[]\n",
    "s=[]\n",
    "for i in range(0,len(lists)):\n",
    "   m=lists[i].values()\n",
    "   s=s+list(m)  \n",
    "print(s)"
   ]
  },
  {
   "cell_type": "code",
   "execution_count": 25,
   "metadata": {},
   "outputs": [
    {
     "name": "stdout",
     "output_type": "stream",
     "text": [
      "string into dict: {'m': 'a', 'h': 'i'}\n"
     ]
    }
   ],
   "source": [
    "#string converted into dict \n",
    "str=input(\"Enter the string:\")\n",
    "l=len(str)\n",
    "if(l%2!=0):\n",
    "   str=str+str[0]\n",
    "dict={}\n",
    "for i in range(0,len(str),2):\n",
    "   dict[str[i]]=str[i+1]\n",
    "print(\"string into dict:\",dict)"
   ]
  },
  {
   "cell_type": "code",
   "execution_count": null,
   "metadata": {},
   "outputs": [],
   "source": [
    "student={\"Mahi\":120,\"Babi\":190,\"Siva\":200}\n",
    "sum=student[\"Mahi\"]+student[\"Babi\"]\n",
    "print(sum)\n",
    "\n",
    "#2nd method\n",
    "t=0\n",
    "for i in student.values():\n",
    "   t=t+i\n",
    "print(t,len (student))"
   ]
  },
  {
   "cell_type": "code",
   "execution_count": null,
   "metadata": {},
   "outputs": [],
   "source": [
    "#write a program to extract unique values\n",
    "num={\"A\":[5,6,7],\"B\":[9,8,7,6,4],\"C\":[6,9,5,8,2,1]}\n",
    "u=num[\"A\"]+num[\"B\"]+num[\"C\"]    \n",
    "print(u)\n",
    "unique=[]\n",
    "for i in u:\n",
    "   if(i not in unique):\n",
    "         unique.append(i)\n",
    "print(f\"distinct elements in the dictionay:{unique}\")"
   ]
  },
  {
   "cell_type": "code",
   "execution_count": null,
   "metadata": {},
   "outputs": [],
   "source": [
    "ist=['4','6','6','2','5','7','8','3','4','3','3','1','0']\n",
    "dict_s={}\n",
    "e=[]  \n",
    "count=[]\n",
    "for i in list:\n",
    "      c=0  \n",
    "      if(i not in e):\n",
    "         e.append(i)\n",
    "         for j in range(0,len(list)-1):\n",
    "            if(i==list[j]):\n",
    "               c=c+1\n",
    "         count.append(c)      \n",
    "         print(f\"count of {i} is: {c},\")\n",
    "print(\"unique elements:\",e,count)\n",
    "for i in range(0,len(e)-1):\n",
    "      dict_s[e[i]]=count[i]*[e[i]] \n",
    "print(\"dictionary by list:\",dict_s)"
   ]
  }
 ],
 "metadata": {
  "kernelspec": {
   "display_name": "Python 3",
   "language": "python",
   "name": "python3"
  },
  "language_info": {
   "codemirror_mode": {
    "name": "ipython",
    "version": 3
   },
   "file_extension": ".py",
   "mimetype": "text/x-python",
   "name": "python",
   "nbconvert_exporter": "python",
   "pygments_lexer": "ipython3",
   "version": "3.10.11"
  }
 },
 "nbformat": 4,
 "nbformat_minor": 2
}
