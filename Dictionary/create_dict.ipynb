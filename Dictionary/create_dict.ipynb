{
 "cells": [
  {
   "cell_type": "code",
   "execution_count": 3,
   "metadata": {},
   "outputs": [
    {
     "name": "stdout",
     "output_type": "stream",
     "text": [
      "{'A': '1', 'B': '2', 'N': '5', 'X': '9', 'W': '8'}\n"
     ]
    }
   ],
   "source": [
    "#Create dict by user input using for loop.\n",
    "create_dict={}\n",
    "no=int(input(\"Enter no of items to create dict:\"))\n",
    "for dic in range(1,no+1):\n",
    "    keys=input(\"Enter the Keys:\")\n",
    "    Values=input(\"Enter the values:\")\n",
    "    create_dict[keys]=Values\n",
    "print(create_dict)    "
   ]
  }
 ],
 "metadata": {
  "kernelspec": {
   "display_name": "Python 3",
   "language": "python",
   "name": "python3"
  },
  "language_info": {
   "codemirror_mode": {
    "name": "ipython",
    "version": 3
   },
   "file_extension": ".py",
   "mimetype": "text/x-python",
   "name": "python",
   "nbconvert_exporter": "python",
   "pygments_lexer": "ipython3",
   "version": "3.10.11"
  }
 },
 "nbformat": 4,
 "nbformat_minor": 2
}
