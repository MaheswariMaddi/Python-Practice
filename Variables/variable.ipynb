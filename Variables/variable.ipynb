{
 "cells": [
  {
   "cell_type": "code",
   "execution_count": 16,
   "metadata": {},
   "outputs": [
    {
     "name": "stdout",
     "output_type": "stream",
     "text": [
      "100 100 100\n",
      "Identifier of variables 1812536036688 1812536036688 1812536036688\n",
      "9 10 11\n",
      "Identifier of variables 1812536033776 1812536033808 1812536033840\n",
      "<class 'str'>\n",
      "<class 'int'>\n",
      "<class 'str'>\n"
     ]
    }
   ],
   "source": [
    "#Variables concepts \n",
    "a=b=z=100 #initilize multiple variables at once.\n",
    "print(a,b,z)\n",
    "print(\"Identifier of variables\",id(a),id(b),id(z))\n",
    "a,b,z=9,10,11\n",
    "print(a,b,z)\n",
    "print(\"Identifier of variables\",id(a),id(b),id(z))#here id represents memory location of identifier\n",
    "Name=\"Mahi\" \n",
    "ids =200\n",
    "group =\"A\"\n",
    "print(type(Name))\n",
    "print(type(ids))\n",
    "print(type(group))\n",
    "\n"
   ]
  },
  {
   "cell_type": "code",
   "execution_count": 17,
   "metadata": {},
   "outputs": [
    {
     "name": "stdout",
     "output_type": "stream",
     "text": [
      "70\n",
      "70\n",
      "70\n"
     ]
    }
   ],
   "source": [
    "#global varibale example\n",
    "a=10\n",
    "b=34\n",
    "c=65\n",
    "i=0\n",
    "def add():\n",
    "    a=20\n",
    "    b=50\n",
    "    c=a+b\n",
    "    print(c)\n",
    "    global i\n",
    "    if i<2:\n",
    "        i+=1\n",
    "        add()\n",
    "add()\n"
   ]
  },
  {
   "cell_type": "code",
   "execution_count": 18,
   "metadata": {},
   "outputs": [
    {
     "name": "stdout",
     "output_type": "stream",
     "text": [
      "20\n",
      "Hiii\n"
     ]
    }
   ],
   "source": [
    "#Modifying global to local\n",
    "x=20\n",
    "def add():\n",
    "    global x\n",
    "    print(x)\n",
    "    x=\"Hiii\"\n",
    "    print(x)\n",
    "\n",
    "add()"
   ]
  },
  {
   "cell_type": "code",
   "execution_count": 19,
   "metadata": {},
   "outputs": [
    {
     "name": "stdout",
     "output_type": "stream",
     "text": [
      "Data type of a variables x,y: <class 'float'> <class 'int'>\n",
      "values of x and y: 1000000000000000000000000000000000000000000000000001 and 3.0\n"
     ]
    }
   ],
   "source": [
    "#To prove int accepts a no of any length.\n",
    "\n",
    "x=1000000000000000000000000000000000000000000000000000+1\n",
    "y=1.5+1.5\n",
    "print(\"Data type of a variables x,y:\",type(y),type(x))\n",
    "print(\"values of x and y:\",x,\"and\",y)"
   ]
  },
  {
   "cell_type": "code",
   "execution_count": 20,
   "metadata": {},
   "outputs": [
    {
     "name": "stdout",
     "output_type": "stream",
     "text": [
      "id of a 1812536033584\n",
      "id of b 1812536033584\n",
      "object id of 3 1812536033584\n",
      "value of a is 3\n",
      "id of b with value 4 1812536033616\n"
     ]
    }
   ],
   "source": [
    "#concept of immutable\n",
    "a = 3\n",
    "print(\"id of a\", id(a))\n",
    "b = 3\n",
    "print(\"id of b\", id(b))\n",
    "print(\"object id of 3\", id(3))\n",
    "b = 4\n",
    "print(\"value of a is\", a)\n",
    "print(\"id of b with value 4\", id(b))\n"
   ]
  },
  {
   "cell_type": "code",
   "execution_count": 21,
   "metadata": {},
   "outputs": [
    {
     "name": "stdout",
     "output_type": "stream",
     "text": [
      "<class 'int'>\n",
      "<class 'float'>\n",
      "<class 'str'>\n",
      "<class 'int'>\n"
     ]
    }
   ],
   "source": [
    "#type method\n",
    "a = 2\n",
    "print(type(1))\n",
    "print(type(1.2))\n",
    "print(type(\"Rahul\"))\n",
    "print(type(a))\n",
    "\n",
    "#Variable Identifier conventions\n",
    "studentName = \"Rahul\"  #Camel casing\n",
    "StudentName = \"Raju\"   #Pascal casing\n",
    "student_name = \"ram\"   #Snake casing"
   ]
  }
 ],
 "metadata": {
  "kernelspec": {
   "display_name": "Python 3",
   "language": "python",
   "name": "python3"
  },
  "language_info": {
   "codemirror_mode": {
    "name": "ipython",
    "version": 3
   },
   "file_extension": ".py",
   "mimetype": "text/x-python",
   "name": "python",
   "nbconvert_exporter": "python",
   "pygments_lexer": "ipython3",
   "version": "3.10.11"
  },
  "orig_nbformat": 4
 },
 "nbformat": 4,
 "nbformat_minor": 2
}
