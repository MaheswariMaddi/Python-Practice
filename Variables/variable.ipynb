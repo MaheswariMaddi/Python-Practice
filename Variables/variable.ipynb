{
 "cells": [
  {
   "cell_type": "code",
   "execution_count": 1,
   "metadata": {},
   "outputs": [
    {
     "name": "stdout",
     "output_type": "stream",
     "text": [
      "100 100 100\n",
      "Identifier of variables 1654512618832 1654512618832 1654512618832\n",
      "9 10 11\n",
      "Identifier of variables 1654512615920 1654512615952 1654512615984\n",
      "<class 'str'>\n",
      "<class 'int'>\n",
      "<class 'str'>\n"
     ]
    }
   ],
   "source": [
    "#Variables concepts \n",
    "a=b=z=100 # to assign multiple values\n",
    "print(a,b,z)\n",
    "print(\"Identifier of variables\",id(a),id(b),id(z))\n",
    "a,b,z=9,10,11\n",
    "print(a,b,z)\n",
    "print(\"Identifier of variables\",id(a),id(b),id(z))#here id represents memory location of identifier\n",
    "Name=\"Mahi\" \n",
    "ids =200\n",
    "group =\"A\"\n",
    "print(type(Name))\n",
    "print(type(ids))\n",
    "print(type(group))\n",
    "\n"
   ]
  },
  {
   "cell_type": "code",
   "execution_count": null,
   "metadata": {},
   "outputs": [],
   "source": [
    "#global varibale examle\n",
    "a=10\n",
    "b=34\n",
    "c=65\n",
    "i=0\n",
    "def add():\n",
    "    a=20\n",
    "    b=50\n",
    "    c=a+b\n",
    "    print(c)\n",
    "    global i\n",
    "    if i<2:\n",
    "        i+=1\n",
    "        add()\n",
    "add()\n"
   ]
  },
  {
   "cell_type": "code",
   "execution_count": 5,
   "metadata": {},
   "outputs": [
    {
     "name": "stdout",
     "output_type": "stream",
     "text": [
      "22\n"
     ]
    }
   ],
   "source": [
    "#modifying global to local\n",
    "x=20\n",
    "def add():\n",
    "    #global x\n",
    "    print(x)\n",
    "    x=\"Hiii\"\n",
    "    print(x)\n",
    "\n",
    "add()"
   ]
  },
  {
   "cell_type": "code",
   "execution_count": 11,
   "metadata": {},
   "outputs": [
    {
     "name": "stdout",
     "output_type": "stream",
     "text": [
      "<class 'float'> 3.0\n",
      "3.0\n"
     ]
    }
   ],
   "source": [
    "#maxmum length of int s threr no limit\n",
    "\n",
    "x=1000000000000000000000000000000000000000000000000000+1\n",
    "y=1.5+1.5\n",
    "print(type(y),y)\n",
    "\n",
    "print(y)"
   ]
  },
  {
   "cell_type": "code",
   "execution_count": 12,
   "metadata": {},
   "outputs": [
    {
     "name": "stdout",
     "output_type": "stream",
     "text": [
      "id of a 1591138124080\n",
      "id of b 1591138124080\n",
      "object id of 3 1591138124080\n",
      "value of a 3\n",
      "id of b with value 4 1591138124112\n"
     ]
    }
   ],
   "source": [
    "a = 3\n",
    "print(\"id of a\", id(a))\n",
    "b = 3\n",
    "print(\"id of b\", id(b))\n",
    "print(\"object id of 3\", id(3))\n",
    "b = 4\n",
    "print(\"value of a\", a)\n",
    "print(\"id of b with value 4\", id(b))\n"
   ]
  },
  {
   "cell_type": "code",
   "execution_count": null,
   "metadata": {},
   "outputs": [],
   "source": [
    "a = 2\n",
    "print(type(1))\n",
    "print(type(1.2))\n",
    "print(type(\"Rahul\"))\n",
    "print(type(a))\n",
    "studentName = \"Rahul\"\n",
    "StudentName = \"Raju\"\n",
    "student_name = \"ram\""
   ]
  }
 ],
 "metadata": {
  "kernelspec": {
   "display_name": "Python 3",
   "language": "python",
   "name": "python3"
  },
  "language_info": {
   "codemirror_mode": {
    "name": "ipython",
    "version": 3
   },
   "file_extension": ".py",
   "mimetype": "text/x-python",
   "name": "python",
   "nbconvert_exporter": "python",
   "pygments_lexer": "ipython3",
   "version": "3.10.11"
  },
  "orig_nbformat": 4
 },
 "nbformat": 4,
 "nbformat_minor": 2
}
