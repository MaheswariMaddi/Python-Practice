{
 "cells": [
  {
   "cell_type": "code",
   "execution_count": 27,
   "metadata": {},
   "outputs": [
    {
     "name": "stdout",
     "output_type": "stream",
     "text": [
      "* \n",
      "* * \n",
      "* * * \n",
      "* * * * \n",
      "* * * * * \n"
     ]
    }
   ],
   "source": [
    "n=int(input(\"Enter the no:\"))\n",
    "for i in range(1,n+1):\n",
    "    for j in range(1,n+1):\n",
    "        if(j<=i):\n",
    "            print(\"*\",end=' ')\n",
    "    print()        \n",
    "    "
   ]
  },
  {
   "cell_type": "code",
   "execution_count": 28,
   "metadata": {},
   "outputs": [
    {
     "name": "stdout",
     "output_type": "stream",
     "text": [
      "* * * * * \n",
      "* * * * \n",
      "* * * \n",
      "* * \n",
      "* \n"
     ]
    }
   ],
   "source": [
    "n=int(input(\"Enter the no:\"))\n",
    "for i in range(1,n+1):\n",
    "    for j in range(1,n+1):\n",
    "        if(j<=n-i+1):\n",
    "            print(\"*\",end=' ')\n",
    "    print()        "
   ]
  },
  {
   "cell_type": "code",
   "execution_count": 29,
   "metadata": {},
   "outputs": [
    {
     "name": "stdout",
     "output_type": "stream",
     "text": [
      "          * \n",
      "        * * \n",
      "      * * * \n",
      "    * * * * \n",
      "  * * * * * \n",
      "* * * * * * \n"
     ]
    }
   ],
   "source": [
    "n=int(input(\"Enter the no:\"))\n",
    "for i in range(1,n+1):\n",
    "    for j in range(1,n+1):\n",
    "        if(j<n-i+1):\n",
    "            print(\" \",end=' ')\n",
    "        else:\n",
    "            print(\"*\",end=' ')\n",
    "    print()            "
   ]
  },
  {
   "cell_type": "code",
   "execution_count": 30,
   "metadata": {},
   "outputs": [
    {
     "name": "stdout",
     "output_type": "stream",
     "text": [
      "* * * * * * \n",
      "  * * * * * \n",
      "    * * * * \n",
      "      * * * \n",
      "        * * \n",
      "          * \n"
     ]
    }
   ],
   "source": [
    "n=int(input(\"Enter the no:\"))\n",
    "for i in range(1,n+1):\n",
    "    for j in range(1,n+1):\n",
    "        if(j>=i):\n",
    "            print(\"*\",end=\" \")\n",
    "        else:\n",
    "            print(\" \",end=\" \")    \n",
    "    print()        "
   ]
  },
  {
   "cell_type": "code",
   "execution_count": 31,
   "metadata": {},
   "outputs": [
    {
     "name": "stdout",
     "output_type": "stream",
     "text": [
      "    *     \n",
      "    *     \n",
      "* * * * * \n",
      "    *     \n",
      "    *     \n"
     ]
    }
   ],
   "source": [
    "n=int(input(\"Enter the no:\"))\n",
    "if(n%2!=0):\n",
    "    s=n-(n//2)\n",
    "    for i in range(1,n+1):\n",
    "        for j in range(1,n+1):\n",
    "            if(j==s or i==s):\n",
    "                print(\"*\",end=' ')\n",
    "            else:\n",
    "                print(\" \",end=\" \")\n",
    "        print( )        \n",
    "else:\n",
    "    print(\"only odd no's allowed\")                    \n",
    "                \n",
    "        "
   ]
  },
  {
   "cell_type": "code",
   "execution_count": 32,
   "metadata": {},
   "outputs": [
    {
     "name": "stdout",
     "output_type": "stream",
     "text": [
      "*               *  \n",
      "  *           *    \n",
      "    *       *      \n",
      "      *   *        \n",
      "        *          \n"
     ]
    }
   ],
   "source": [
    "n=int(input(\"Enter the no:\"))\n",
    "s=2*n\n",
    "for i in range(1,n+1):\n",
    "    for j in range(1,s):\n",
    "        if(j==i or j==(s-i)):\n",
    "            print(\"*\",end=\" \")\n",
    "        else:\n",
    "            print(\" \",end=\" \")\n",
    "    print(\" \")        "
   ]
  },
  {
   "cell_type": "code",
   "execution_count": 33,
   "metadata": {},
   "outputs": [
    {
     "name": "stdout",
     "output_type": "stream",
     "text": [
      "        *         \n",
      "      *   *       \n",
      "    *       *     \n",
      "  *           *   \n",
      "*               * \n"
     ]
    }
   ],
   "source": [
    "n=int(input(\"Enter the no:\"))\n",
    "s=2*n\n",
    "for i in range(1,n+1):\n",
    "    for j in range(1,s):\n",
    "        if(j==(n-i+1) or j==(n+i-1)):\n",
    "            print(\"*\",end=\" \")\n",
    "        else:\n",
    "            print(\" \",end=' ') \n",
    "    print()           "
   ]
  }
 ],
 "metadata": {
  "kernelspec": {
   "display_name": "Python 3",
   "language": "python",
   "name": "python3"
  },
  "language_info": {
   "codemirror_mode": {
    "name": "ipython",
    "version": 3
   },
   "file_extension": ".py",
   "mimetype": "text/x-python",
   "name": "python",
   "nbconvert_exporter": "python",
   "pygments_lexer": "ipython3",
   "version": "3.10.11"
  }
 },
 "nbformat": 4,
 "nbformat_minor": 2
}
