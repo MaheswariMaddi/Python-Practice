{
 "cells": [
  {
   "cell_type": "code",
   "execution_count": null,
   "metadata": {},
   "outputs": [],
   "source": [
    "\n",
    "# how to add a new value to tuple in different positons-------noo\n",
    "# can we multiply 2 lists---noo\n",
    "#how to use dict_key data type\n",
    "#do some examples in set & string(access elements in string)\n",
    "# 1. Create a user data (should contain username, password and actual name of user) and write program to read user logins from standard input,\n",
    "# Validate the logins and print welcome user with his actual name. don't use loops.---In future\n"
   ]
  },
  {
   "cell_type": "code",
   "execution_count": 2,
   "metadata": {},
   "outputs": [
    {
     "name": "stdout",
     "output_type": "stream",
     "text": [
      "<class 'list'>\n",
      "56\n",
      "Middle mat 90\n",
      "<class 'list'>\n"
     ]
    }
   ],
   "source": [
    "\n",
    "# create a number matrix identiy matrix, n*m, n*n, 1*n, n*1 using list\n",
    "\n",
    "matrix=[\n",
    "    1,\n",
    "    2,\n",
    "    [34,56],\n",
    "    [23,45,89,56],\n",
    "    [34,[100,87,'mahi'],90],\n",
    "    6,\n",
    "    9,\n",
    "    0\n",
    "]\n",
    "print(type(matrix))\n",
    "sub_Mat=matrix[2][1]\n",
    "Middle_Mat=matrix[4][2]\n",
    "print(sub_Mat)\n",
    "print(\"Middle mat\",Middle_Mat)\n",
    "print(type(matrix))"
   ]
  },
  {
   "cell_type": "code",
   "execution_count": 43,
   "metadata": {},
   "outputs": [
    {
     "name": "stdout",
     "output_type": "stream",
     "text": [
      "dict_keys([12, 20, 30])\n",
      "<class 'dict'>\n",
      "12\n",
      "20\n",
      "30\n"
     ]
    }
   ],
   "source": [
    "# get the datatype of keys in dict and print key one by one in a seperate line in dict\n",
    "\n",
    "dict={12:'index page',\n",
    "      20:'story',\n",
    "      30:'2nd story',}\n",
    "print(dict.keys())\n",
    "print(type(dict))\n",
    "for key in dict.keys():\n",
    "    print(key)\n",
    "\n",
    "\n",
    "    \n",
    "\n"
   ]
  },
  {
   "cell_type": "code",
   "execution_count": 39,
   "metadata": {},
   "outputs": [
    {
     "name": "stdout",
     "output_type": "stream",
     "text": [
      "Deleting dict {2: 'ball', 3: 'cat', 4: 'dog'}\n",
      "adding element to dict {2: 'ball', 3: 'cat', 4: 'dog', 1: 'hiii'}\n"
     ]
    }
   ],
   "source": [
    "#how to add an item in dict, how to remove dict\n",
    "\n",
    "book={1:'apple',2:'ball',3:'cat',4:'dog'}\n",
    "del book[1]\n",
    "print(\"Deleting dict\",book)\n",
    "book[1]=\"hiii\"\n",
    "print(\"adding element to dict\",book)\n"
   ]
  },
  {
   "cell_type": "code",
   "execution_count": 7,
   "metadata": {},
   "outputs": [
    {
     "name": "stdout",
     "output_type": "stream",
     "text": [
      "student name: Hello&World\n",
      "Hello World\n",
      "0\n",
      "Hello&World\n"
     ]
    }
   ],
   "source": [
    "# how to delete a character in string.\n",
    "\n",
    "# how to update a string, get this without dollar\n",
    "# How to find an index of a letter in string\n",
    "\n",
    "\n",
    "student=\"Hello&World\"\n",
    "print(\"student name:\",student)\n",
    "new=student.replace('&',' ',1)\n",
    "print(new)\n",
    "Index=student.index(\"H\")\n",
    "print(Index)        \n"
   ]
  },
  {
   "cell_type": "code",
   "execution_count": null,
   "metadata": {},
   "outputs": [],
   "source": [
    "def add(a,b):\n",
    " return a+b\n",
    "\n",
    "d=add(3,7)\n",
    "print(\"value is\",d)   "
   ]
  },
  {
   "cell_type": "code",
   "execution_count": null,
   "metadata": {},
   "outputs": [],
   "source": [
    "#transpose matrix"
   ]
  }
 ],
 "metadata": {
  "kernelspec": {
   "display_name": "Python 3",
   "language": "python",
   "name": "python3"
  },
  "language_info": {
   "codemirror_mode": {
    "name": "ipython",
    "version": 3
   },
   "file_extension": ".py",
   "mimetype": "text/x-python",
   "name": "python",
   "nbconvert_exporter": "python",
   "pygments_lexer": "ipython3",
   "version": "3.10.11"
  },
  "orig_nbformat": 4
 },
 "nbformat": 4,
 "nbformat_minor": 2
}
