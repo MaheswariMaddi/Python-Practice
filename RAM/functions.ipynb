{
 "cells": [
  {
   "cell_type": "code",
   "execution_count": 3,
   "metadata": {},
   "outputs": [
    {
     "name": "stdout",
     "output_type": "stream",
     "text": [
      "4\n",
      "Hello\n",
      "Hii\n",
      "None\n"
     ]
    }
   ],
   "source": [
    "# Function definition\n",
    "# Doc String\n",
    "# Function Calling\n",
    "# Function Parameters\n",
    "# Function return\n",
    "# Function Arguments\n",
    "# Call By Reference, Value\n",
    "\n",
    "def square(n):\n",
    "    sq = n*n\n",
    "    return sq\n",
    "\n",
    "def printHello():\n",
    "    return \"Hello\"\n",
    "\n",
    "def printHi():\n",
    "    print(\"Hii\")\n",
    "\n",
    "result = square(2)\n",
    "print(result)\n",
    "\n",
    "resultHello = printHello()\n",
    "print(resultHello)\n",
    "\n",
    "resultHi = printHi()\n",
    "print(resultHi)\n"
   ]
  },
  {
   "cell_type": "code",
   "execution_count": null,
   "metadata": {},
   "outputs": [],
   "source": [
    "# Reusability\n",
    "def SeqPrime():\n",
    "    \"\"\"\"Logic\"\"\"\n",
    "    \n",
    "for i in range(1,11):\n",
    "    SeqPrime()"
   ]
  },
  {
   "cell_type": "code",
   "execution_count": 19,
   "metadata": {},
   "outputs": [
    {
     "name": "stdout",
     "output_type": "stream",
     "text": [
      "Is prime No: True\n"
     ]
    }
   ],
   "source": [
    "def isPrime(n,m):\n",
    "    \"\"\"\n",
    "        To check whether a number is prime or not\n",
    "    Args:\n",
    "        n (int): input to validate\n",
    "    Returns:\n",
    "        prime (bool): return value of the method\n",
    "    \"\"\"\n",
    "    for i in range(2,n):\n",
    "        if(n%i == 0):\n",
    "            return False\n",
    "    else:\n",
    "        return True\n",
    "    \n",
    "    \n",
    "print(\"Is prime No:\",isPrime(3,5))    "
   ]
  },
  {
   "cell_type": "code",
   "execution_count": 2,
   "metadata": {},
   "outputs": [
    {
     "name": "stdout",
     "output_type": "stream",
     "text": [
      "3 11 -12\n"
     ]
    }
   ],
   "source": [
    "def addNumbers(a,b):\n",
    "    return a+b\n",
    "\n",
    "c = addNumbers(1,2)\n",
    "# Named Arguments\n",
    "d = addNumbers(b =2, a= 9) \n",
    "\n",
    "x = addNumbers(-10,b=-2) \n",
    "print(c,d,x)\n",
    "\n",
    "# Advantages:\n",
    "# 1. Reusability\n",
    "# 2. Modularity"
   ]
  },
  {
   "cell_type": "code",
   "execution_count": null,
   "metadata": {},
   "outputs": [],
   "source": [
    "# Primitive Type, by default follows Call by Reference,\n",
    "# On assigning the new value, it won't modifies original variable memory loaction.\n",
    "\n",
    "def testVar(a):\n",
    "    print(a,id(a))\n",
    "    a = 23\n",
    "    print(a,id(a))\n",
    "    \n",
    "c = 2    \n",
    "testVar(c)\n",
    "print(c, id(c))"
   ]
  },
  {
   "cell_type": "code",
   "execution_count": 26,
   "metadata": {},
   "outputs": [
    {
     "name": "stdout",
     "output_type": "stream",
     "text": [
      "['Mango', 'Orange'] 1693213287872\n",
      "['Mango', 'Orange', 'Grapes'] 1693213287872\n",
      "['Mango', 'Orange', 'Grapes'] 1693213287872\n"
     ]
    }
   ],
   "source": [
    "#Call by Reference\n",
    "#For advanced data types, On adding data into same variable, it modifies orignal variable\n",
    "def testList(fruits):\n",
    "    fruits.append(\"Grapes\")\n",
    "    print(fruits, id(fruits))\n",
    "    \n",
    "\n",
    "summerFruits = [\"Mango\", \"Orange\"]\n",
    "print(summerFruits, id(summerFruits))\n",
    "testList(summerFruits)\n",
    "print(summerFruits, id(summerFruits))\n"
   ]
  },
  {
   "cell_type": "code",
   "execution_count": 21,
   "metadata": {},
   "outputs": [
    {
     "name": "stdout",
     "output_type": "stream",
     "text": [
      "('Mango', 'Orange') 1693213019840\n",
      "('Mango', 'Orange') 1693213237184\n"
     ]
    }
   ],
   "source": [
    "# Advanced Types, by default follows Call by Reference,\n",
    "# On assigning the value, it won't modifies original variable.\n",
    "def testList(summerFruits):\n",
    "    summerFruits =  (\"Mango\",\"Orange\")\n",
    "    print(summerFruits, id(summerFruits))\n",
    "    \n",
    "\n",
    "summerFruits = (\"Mango\",\"Orange\")\n",
    "testList(summerFruits)\n",
    "print(summerFruits, id(summerFruits))"
   ]
  },
  {
   "cell_type": "code",
   "execution_count": 23,
   "metadata": {},
   "outputs": [
    {
     "name": "stdout",
     "output_type": "stream",
     "text": [
      "1\n",
      "3\n",
      "6\n",
      "10\n",
      "15\n"
     ]
    }
   ],
   "source": [
    "# Variable length Arguments\n",
    "def addNumbers(*args):\n",
    "    sum = 0\n",
    "    for a in args:\n",
    "        sum += a\n",
    "    \n",
    "    return sum\n",
    "\n",
    "print(addNumbers(1))\n",
    "print(addNumbers(1,2))\n",
    "print(addNumbers(1,2,3))\n",
    "print(addNumbers(1,2,3,4))\n",
    "print(addNumbers(1,2,3,4,5))\n"
   ]
  },
  {
   "cell_type": "code",
   "execution_count": null,
   "metadata": {},
   "outputs": [],
   "source": [
    "#Default Arguments\n",
    "#all Default arguments should be at the end of all the non default arguments\n",
    "def logX(x, base=10):\n",
    "    print(x)\n",
    "    print(base)\n",
    "    print()\n",
    "    return x+base\n",
    "\n",
    "logX(5,2)\n",
    "logX(5,10)\n",
    "logX(6)\n",
    "\n",
    "\n",
    "\n",
    "\n"
   ]
  },
  {
   "cell_type": "code",
   "execution_count": 28,
   "metadata": {},
   "outputs": [
    {
     "name": "stdout",
     "output_type": "stream",
     "text": [
      "Outer\n",
      "Inner\n",
      "exit\n"
     ]
    }
   ],
   "source": [
    "#Nested Functions\n",
    "def outerFunction():\n",
    "    print(\"Outer\")\n",
    "    \n",
    "    def innerFunction():\n",
    "        print(\"Inner\")\n",
    "    \n",
    "    innerFunction()\n",
    "    print(\"exit\")\n",
    "    \n",
    "outerFunction()"
   ]
  },
  {
   "cell_type": "code",
   "execution_count": 30,
   "metadata": {},
   "outputs": [
    {
     "name": "stdout",
     "output_type": "stream",
     "text": [
      "<function outerFunction at 0x0000018A3B5C3AC0>\n",
      "Outer\n",
      "exit\n",
      "<function outerFunction.<locals>.innerFunction at 0x0000018A3B654040>\n",
      "Inner\n"
     ]
    }
   ],
   "source": [
    "#Nested Functions\n",
    "def outerFunction():\n",
    "    print(\"Outer\")\n",
    "    \n",
    "    def innerFunction():\n",
    "        print(\"Inner\")\n",
    "    \n",
    "    print(\"exit\")\n",
    "    return innerFunction\n",
    "\n",
    "print(outerFunction)    \n",
    "a = outerFunction()\n",
    "print(a)\n",
    "a()\n"
   ]
  },
  {
   "cell_type": "code",
   "execution_count": null,
   "metadata": {},
   "outputs": [],
   "source": [
    "#One function for each Math operation, 2 arguments\n",
    "#Calculate, 3 arguments, Calculate(2,5,\"+\")\n",
    "#Factorial of a number\n",
    "\n",
    "\n"
   ]
  }
 ],
 "metadata": {
  "kernelspec": {
   "display_name": "Python 3",
   "language": "python",
   "name": "python3"
  },
  "language_info": {
   "codemirror_mode": {
    "name": "ipython",
    "version": 3
   },
   "file_extension": ".py",
   "mimetype": "text/x-python",
   "name": "python",
   "nbconvert_exporter": "python",
   "pygments_lexer": "ipython3",
   "version": "3.10.11"
  }
 },
 "nbformat": 4,
 "nbformat_minor": 2
}
