{
 "cells": [
  {
   "cell_type": "code",
   "execution_count": 26,
   "metadata": {},
   "outputs": [
    {
     "name": "stdout",
     "output_type": "stream",
     "text": [
      "a+b = 13\n",
      "absolute division 5.5\n",
      "Qoutient 5\n",
      "Remainder 1\n",
      "a to the power of b 121\n",
      "False\n",
      "True\n"
     ]
    }
   ],
   "source": [
    "# Arthematic Operators\n",
    "a = 11\n",
    "b = 2\n",
    "c = a+b\n",
    "\n",
    "print(\"a+b =\", c)\n",
    "\n",
    "# *, - \n",
    "\n",
    "print(\"absolute division\",a/b) #float divison\n",
    "\n",
    "print(\"Qoutient\",a//b) #integer divison\n",
    "\n",
    "print(\"Remainder\",a%b)\n",
    "\n",
    "print(\"a to the power of b\",a**b)\n",
    "\n",
    "\n",
    "# how negation works.\n",
    "c = a >> b\n",
    "\n",
    "d = 10\n",
    "c = (a*b)+((2-d)**2)\n",
    "\n",
    "basecondtiion = a>b\n",
    "c = not(basecondtiion)\n",
    "\n",
    "print(c)\n",
    "\n",
    "d = 11\n",
    "print(a is d)\n",
    "\n",
    "a = 0b11"
   ]
  },
  {
   "cell_type": "code",
   "execution_count": 11,
   "metadata": {},
   "outputs": [
    {
     "name": "stdout",
     "output_type": "stream",
     "text": [
      "invalid string\n"
     ]
    }
   ],
   "source": [
    "# 4. Write a program to check if given number is present in a list, if it is present print the number and its index.\n",
    "list=[24,\"hiii\",3+5j,\"@mahi\"]\n",
    "variable=24\n",
    "validate=variable in list\n",
    "if(validate):\n",
    "    i=list.index(variable)\n",
    "    print(i,list[i])\n",
    "else:\n",
    "    print(\"invalid string\")"
   ]
  }
 ],
 "metadata": {
  "kernelspec": {
   "display_name": "Python 3",
   "language": "python",
   "name": "python3"
  },
  "language_info": {
   "codemirror_mode": {
    "name": "ipython",
    "version": 3
   },
   "file_extension": ".py",
   "mimetype": "text/x-python",
   "name": "python",
   "nbconvert_exporter": "python",
   "pygments_lexer": "ipython3",
   "version": "3.10.11"
  },
  "orig_nbformat": 4
 },
 "nbformat": 4,
 "nbformat_minor": 2
}
