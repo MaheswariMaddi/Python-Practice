{
 "cells": [
  {
   "cell_type": "code",
   "execution_count": 2,
   "metadata": {},
   "outputs": [
    {
     "name": "stdout",
     "output_type": "stream",
     "text": [
      "User age is invalid, provided age is -29\n",
      "End of the session\n"
     ]
    }
   ],
   "source": [
    "# condtion\n",
    "# block of code\n",
    "\n",
    "userAge = int(input(\"Enter User's Age\"))\n",
    "\n",
    "# 18 - 100 - valid\n",
    "# 0- 17 - minor\n",
    "# <=0 - invalid\n",
    "# >100 - invalid\n",
    "\n",
    "if(userAge >= 18 and userAge <= 100):\n",
    "    print(\"User is a Major and his/her age is \", userAge)\n",
    "elif(userAge <= 0 or userAge>100):\n",
    "    print(\"User age is invalid, provided age is\", userAge)\n",
    "#elif(userAge > 100):\n",
    " #   print(\"User age is invalid, provided age is\", userAge)\n",
    "else:\n",
    "    ageGap = 18 - userAge\n",
    "    print(\"You are minor and your age is\",userAge)\n",
    "    print(\"You need\",ageGap,\" more years to vote.\")\n",
    "\n",
    "\n",
    "print(\"End of the session\")\n"
   ]
  },
  {
   "cell_type": "code",
   "execution_count": 1,
   "metadata": {},
   "outputs": [
    {
     "ename": "SyntaxError",
     "evalue": "invalid syntax (3508963248.py, line 15)",
     "output_type": "error",
     "traceback": [
      "\u001b[1;36m  Cell \u001b[1;32mIn[1], line 15\u001b[1;36m\u001b[0m\n\u001b[1;33m    else:\u001b[0m\n\u001b[1;37m    ^\u001b[0m\n\u001b[1;31mSyntaxError\u001b[0m\u001b[1;31m:\u001b[0m invalid syntax\n"
     ]
    }
   ],
   "source": [
    "# 2. Write a program to check entered number type and print its type and don't use type()\n",
    "#1---read a value from the input\n",
    "#if it is int prtint integer\n",
    "#if it is float print float\n",
    "#if it is string prinnt  string\n",
    "\n",
    "no=input(\"Enter the no:\")  \n",
    "floatno=float(no)          \n",
    "integer=int(floatno)      \n",
    "if(floatno%integer==0):\n",
    "    print(\"integer\")\n",
    "else:\n",
    "    print(\"float no\")\n",
    "    \n",
    "\n"
   ]
  },
  {
   "cell_type": "code",
   "execution_count": 3,
   "metadata": {},
   "outputs": [
    {
     "name": "stdout",
     "output_type": "stream",
     "text": [
      "the 1st values is: 200.0\n",
      "the 2nd values is: 9.0\n",
      "\n",
      "select the opertaion of two no's:\n",
      "1:Add\n",
      "2:Mul\n",
      "3:Subtraction\n",
      "4:Floor Division\n",
      "5:Exponent\n",
      "division of two nois: 22.0\n"
     ]
    }
   ],
   "source": [
    "#calculator program\n",
    "value1=float(input(\"enter the value1:\"))  # 2\n",
    "print(\"the 1st values is:\",value1) # print 2\n",
    "value2=float(input(\"enter the 2nd value:\"))#5\n",
    "print(\"the 2nd values is:\",value2)#print 5\n",
    "string_name=\"\"\"\n",
    "select the opertaion of two no's:\n",
    "1:Add\n",
    "2:Mul\n",
    "3:Subtraction\n",
    "4:Floor Division\n",
    "5:Exponent\"\"\"\n",
    "print(string_name)\n",
    "c=int(input(string_name))\n",
    "if(c==1): #true\n",
    "    add=value1+value2 #7\n",
    "    print(\"addition\",add)#print7\n",
    "if(c==2):\n",
    "    mul=value1*value2\n",
    "    print(\"Multiplication\",mul)\n",
    "if(c==3):\n",
    "    sub=value1-value2\n",
    "    print(\"subtraction:\",sub)\n",
    "if(c==4):\n",
    "    div=value1//value2\n",
    "    print(\"floor division of two no is:\",div)#(//it gives integer reminder)\n",
    "if(c==5):\n",
    "    power=value1**value2\n",
    "    power=int(power)\n",
    "    print(\"power of two\",power)\n",
    "if(c>5):\n",
    "    print(\"end\")\n",
    "\n"
   ]
  },
  {
   "cell_type": "code",
   "execution_count": null,
   "metadata": {},
   "outputs": [],
   "source": [
    "#check the given no is phone no or not\n",
    "#must be 10 digits\n",
    "# no float no's allow no special charctrs\n",
    "Mobile_no=int(input(\"enter mobile no:\"))\n",
    "print(Mobile_no)\n",
    "length=len(str(Mobile_no))\n",
    "if(length==10):\n",
    "    print(\"your phone is \", Mobile_no)\n",
    "else:\n",
    "    print('Invalid phone no')\n"
   ]
  },
  {
   "cell_type": "code",
   "execution_count": 18,
   "metadata": {},
   "outputs": [
    {
     "name": "stdout",
     "output_type": "stream",
     "text": [
      "9393427769\n",
      "your Mobile is: 9393427769\n"
     ]
    }
   ],
   "source": [
    "#method 2 without using len fun to check given no is phn no or not\n",
    "Mobile_no=int(input(\"enter mobile no:\"))\n",
    "print(Mobile_no)\n",
    "highest_no=9999999999\n",
    "lowest_no=1000000000\n",
    "if(Mobile_no>=lowest_no and Mobile_no<=highest_no):\n",
    "    print(\"your Mobile is:\",Mobile_no)\n",
    "else:\n",
    "    print(\"Invalid phone no\",Mobile_no)\n",
    "\n"
   ]
  },
  {
   "cell_type": "code",
   "execution_count": 15,
   "metadata": {},
   "outputs": [
    {
     "name": "stdout",
     "output_type": "stream",
     "text": [
      "0 1 1 2 3 5 8 13 21 34 "
     ]
    }
   ],
   "source": [
    "#febinocie series\n",
    "num=int(input())\n",
    "pre=0\n",
    "cur=1\n",
    "i=3\n",
    "print(pre,cur,end=' ')\n",
    "while i<=num:\n",
    "    next=pre+cur\n",
    "    print(next,end=' ')\n",
    "    pre=cur\n",
    "    cur=next\n",
    "    i+=1\n",
    "\n",
    "    "
   ]
  },
  {
   "cell_type": "code",
   "execution_count": 29,
   "metadata": {},
   "outputs": [
    {
     "name": "stdout",
     "output_type": "stream",
     "text": [
      "4\n",
      "5\n",
      "4\n",
      "3\n",
      "2\n"
     ]
    }
   ],
   "source": [
    "s=input()\n",
    "l=len(s)\n",
    "print(l)\n",
    "for x in range(l-1,-1,-1):\n",
    "    \n",
    "    New=s[x]\n",
    "    print(New)\n",
    "\n"
   ]
  },
  {
   "cell_type": "code",
   "execution_count": 24,
   "metadata": {},
   "outputs": [
    {
     "name": "stdout",
     "output_type": "stream",
     "text": [
      "[4, 3, 2, 1, 0]\n"
     ]
    }
   ],
   "source": [
    "\n",
    "print(list(range(4,-1,-1)))\n"
   ]
  }
 ],
 "metadata": {
  "kernelspec": {
   "display_name": "Python 3",
   "language": "python",
   "name": "python3"
  },
  "language_info": {
   "codemirror_mode": {
    "name": "ipython",
    "version": 3
   },
   "file_extension": ".py",
   "mimetype": "text/x-python",
   "name": "python",
   "nbconvert_exporter": "python",
   "pygments_lexer": "ipython3",
   "version": "3.10.11"
  },
  "orig_nbformat": 4
 },
 "nbformat": 4,
 "nbformat_minor": 2
}
