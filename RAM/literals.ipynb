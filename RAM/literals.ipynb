{
 "cells": [
  {
   "cell_type": "code",
   "execution_count": 24,
   "metadata": {},
   "outputs": [
    {
     "name": "stdout",
     "output_type": "stream",
     "text": [
      "True\n",
      "False\n"
     ]
    }
   ],
   "source": [
    "# print(19//20) - integer divison\n",
    "\n",
    "# print(20/19) - exact result - floor division\n",
    "\n",
    "print(5 in [1,5,2])\n",
    "a = 2\n",
    "b = 3\n",
    "print(a is b)"
   ]
  },
  {
   "cell_type": "code",
   "execution_count": 28,
   "metadata": {},
   "outputs": [
    {
     "name": "stdout",
     "output_type": "stream",
     "text": [
      "My name is ram. Age is 27.I am from MSFT\n"
     ]
    }
   ],
   "source": [
    "name = \"hello\\nworld\"\n",
    "\n",
    "name = '''hello\n",
    "world'''\n",
    "\n",
    "name = \"My name is ram. Age is 27.\\\n",
    "I am from MSFT\"\n",
    "\n",
    "print(name)"
   ]
  }
 ],
 "metadata": {
  "kernelspec": {
   "display_name": "Python 3",
   "language": "python",
   "name": "python3"
  },
  "language_info": {
   "codemirror_mode": {
    "name": "ipython",
    "version": 3
   },
   "file_extension": ".py",
   "mimetype": "text/x-python",
   "name": "python",
   "nbconvert_exporter": "python",
   "pygments_lexer": "ipython3",
   "version": "3.10.11"
  },
  "orig_nbformat": 4
 },
 "nbformat": 4,
 "nbformat_minor": 2
}
