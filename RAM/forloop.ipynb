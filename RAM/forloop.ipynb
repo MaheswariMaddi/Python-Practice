{
 "cells": [
  {
   "cell_type": "code",
   "execution_count": null,
   "metadata": {},
   "outputs": [],
   "source": [
    "print(\"hello world\") \n",
    "\n",
    "#print above stmt 5 times\n",
    "\n",
    "# loops\n",
    "# while\n",
    "# for"
   ]
  },
  {
   "cell_type": "code",
   "execution_count": 25,
   "metadata": {},
   "outputs": [
    {
     "name": "stdout",
     "output_type": "stream",
     "text": [
      "banana\n",
      "apple\n",
      "strawberry\n",
      "tomato\n"
     ]
    }
   ],
   "source": [
    "#for loop\n",
    "\n",
    "fruits = [\"apple\", \"banana\", \"tomato\", \"strawberry\"]\n",
    "for fruit in fruits:\n",
    "    print(fruit)"
   ]
  },
  {
   "cell_type": "code",
   "execution_count": 2,
   "metadata": {},
   "outputs": [
    {
     "name": "stdout",
     "output_type": "stream",
     "text": [
      "2\n",
      "4\n",
      "6\n",
      "8\n",
      "10\n"
     ]
    }
   ],
   "source": [
    "#print even numbers in between 1 to 10\n",
    "\n",
    "numbersTill10 = (1, 2, 3, 4, 5, 6, 7,8,9, 10)\n",
    "for value in numbersTill10:\n",
    "    if(value % 2 == 0):\n",
    "        print(value)\n"
   ]
  },
  {
   "cell_type": "code",
   "execution_count": 27,
   "metadata": {},
   "outputs": [
    {
     "name": "stdout",
     "output_type": "stream",
     "text": [
      "carrot\n",
      "beetroot\n",
      "califlower\n",
      "cabage\n",
      "cucumber\n"
     ]
    }
   ],
   "source": [
    "vegetables = [\"carrot\", \"beetroot\", \"califlower\", \"cabage\", \"cucumber\"]\n",
    "arrLength = len(vegetables)\n",
    "for index in range(arrLength):\n",
    "    print(vegetables[index])"
   ]
  },
  {
   "cell_type": "code",
   "execution_count": 13,
   "metadata": {},
   "outputs": [
    {
     "name": "stdout",
     "output_type": "stream",
     "text": [
      "[2, 4, 6, 8, 10, 12, 14, 16, 18]\n",
      "(2, 4, 6, 8, 10, 12, 14, 16, 18)\n",
      "{2, 4, 6, 8, 10, 12, 14, 16, 18}\n"
     ]
    }
   ],
   "source": [
    "# range method\n",
    "# range(n) -> 0 to n-1\n",
    "# range(a, n) -> a to n-1\n",
    "# range(a, n, 2) -> a to n-1, increase 2 \n",
    "\n",
    "seq_range = range(2, 20, 2)\n",
    "\n",
    "lis = list(seq_range)\n",
    "print(lis)\n",
    "\n",
    "tup = tuple(seq_range)\n",
    "print(tup)\n",
    "\n",
    "set_items = set(seq_range)\n",
    "print(set_items)\n",
    "\n"
   ]
  },
  {
   "cell_type": "code",
   "execution_count": 1,
   "metadata": {},
   "outputs": [
    {
     "name": "stdout",
     "output_type": "stream",
     "text": [
      "2\n",
      "4\n",
      "6\n",
      "8\n",
      "10\n",
      "12\n",
      "14\n",
      "16\n",
      "18\n",
      "odd no's 1\n",
      "odd no's 3\n",
      "odd no's 5\n",
      "odd no's 7\n",
      "odd no's 9\n",
      "odd no's 11\n",
      "odd no's 13\n",
      "odd no's 15\n",
      "odd no's 17\n",
      "odd no's 19\n"
     ]
    }
   ],
   "source": [
    "for even in range(2, 20, 2):\n",
    "    print(even)\n",
    "for odd in range(1,20,2):\n",
    "    print(\"odd no's\",odd)"
   ]
  },
  {
   "cell_type": "code",
   "execution_count": null,
   "metadata": {},
   "outputs": [],
   "source": [
    "i=[1,2,3,4,5,6,\"apple\",10,11]\n",
    "for x in i:\n",
    "    print(x)\n",
    "    if x==\"apple\":\n",
    "     break\n",
    "print(\"hiii\")"
   ]
  },
  {
   "cell_type": "code",
   "execution_count": 2,
   "metadata": {},
   "outputs": [
    {
     "name": "stdout",
     "output_type": "stream",
     "text": [
      "squareno's [25]\n",
      "25\n",
      "squareno's [25, 36]\n",
      "36\n",
      "squareno's [25, 36, 49]\n",
      "49\n",
      "squareno's [25, 36, 49, 64]\n",
      "64\n",
      "squareno's [25, 36, 49, 64, 81]\n",
      "81\n",
      "squareno's [25, 36, 49, 64, 81, 100]\n",
      "square of the list [25, 36, 49, 64, 81, 100]\n"
     ]
    }
   ],
   "source": [
    "#write square program by acess variable in tuple\n",
    "#create a tuple\n",
    "#acess variable and perform square operation and print that varibles\n",
    "num=(5,6,7,8,9,10)\n",
    "square=[]\n",
    "for no in num:\n",
    "    s2=no**2\n",
    "    square.append(s2)\n",
    "    print(\"squareno's\",square)\n",
    "print(\"square of the list\",square)\n",
    "\n"
   ]
  },
  {
   "cell_type": "code",
   "execution_count": 2,
   "metadata": {},
   "outputs": [
    {
     "name": "stdout",
     "output_type": "stream",
     "text": [
      "10\n",
      "30\n",
      "even no 10\n",
      "even no 12\n",
      "even no 14\n",
      "even no 16\n",
      "even no 18\n",
      "even no 20\n",
      "even no 22\n",
      "even no 24\n",
      "even no 26\n",
      "even no 28\n"
     ]
    }
   ],
   "source": [
    "#print all even numbers in a given range x, y\n",
    "Range1=int(input(\"enter value of x\"))\n",
    "print(Range1)\n",
    "Range2=int(input(\"enter value of y\"))\n",
    "print(Range2)\n",
    "for z in range(Range1,Range2):\n",
    "    if(z%2==0):\n",
    "     print(\"even no\",z)"
   ]
  },
  {
   "cell_type": "code",
   "execution_count": 5,
   "metadata": {},
   "outputs": [
    {
     "name": "stdout",
     "output_type": "stream",
     "text": [
      "M\n",
      "h\n",
      "s\n",
      "a\n",
      "i\n"
     ]
    }
   ],
   "source": [
    "#print alternate character in a given string.\n",
    "string=\"Maheswari\"\n",
    "for c in range(0,len(string),2):\n",
    "    print(string[c])"
   ]
  },
  {
   "cell_type": "code",
   "execution_count": 81,
   "metadata": {},
   "outputs": [
    {
     "name": "stdout",
     "output_type": "stream",
     "text": [
      "1 apple\n",
      "2 ball\n",
      "3 cat\n"
     ]
    }
   ],
   "source": [
    "#Print dictonary item using for loop\n",
    "\n",
    "dict={1:'apple',2:'ball',3:'cat'}\n",
    "for d in dict:\n",
    "    \n",
    "      print(d,dict[d])"
   ]
  },
  {
   "cell_type": "code",
   "execution_count": null,
   "metadata": {},
   "outputs": [],
   "source": [
    "# Python program to show how if-else statements work  \n",
    "string=\"paython loop\"\n",
    "for s in string:\n",
    "    if s=='o':\n",
    "        print(\"if block\")\n",
    "    else:\n",
    "        print(s)\n"
   ]
  },
  {
   "cell_type": "code",
   "execution_count": 3,
   "metadata": {},
   "outputs": [
    {
     "name": "stdout",
     "output_type": "stream",
     "text": [
      "1\n",
      "3\n",
      "5\n",
      "7\n",
      "9\n",
      "11\n",
      "odd no's\n"
     ]
    }
   ],
   "source": [
    "# Python program to show how to use else statement with for loop \n",
    "#tup=range(1,11)\n",
    "tup=(1,2,3,4,5,6,7,8,9,10,11)\n",
    "for n in tup:\n",
    "    if n%2!=0:\n",
    "        print(n)\n",
    "else:\n",
    "    print(\"odd no's\")"
   ]
  },
  {
   "cell_type": "code",
   "execution_count": 21,
   "metadata": {},
   "outputs": [
    {
     "name": "stdout",
     "output_type": "stream",
     "text": [
      "range(0, 15)\n",
      "[0, 1, 2, 3, 4, 5, 6, 7, 8, 9, 10, 11, 12, 13, 14]\n",
      "range(1, 15)\n",
      "(1, 2, 3, 4, 5, 6, 7, 8, 9, 10, 11, 12, 13, 14)\n",
      "range(1, 20, 2)\n",
      "[1, 3, 5, 7, 9, 11, 13, 15, 17, 19]\n"
     ]
    }
   ],
   "source": [
    "# range function\n",
    "print(range(15))\n",
    "print(list(range(15)))\n",
    "print(range(1,15))\n",
    "print(tuple(range(1,15)))\n",
    "print(range(1,20,2))\n",
    "print(list(range(1,20,2)))\n"
   ]
  },
  {
   "cell_type": "code",
   "execution_count": 11,
   "metadata": {},
   "outputs": [
    {
     "name": "stdout",
     "output_type": "stream",
     "text": [
      "MAHI\n",
      "BABI\n",
      "SIVA\n",
      "APPPLE\n",
      "PYTHON\n",
      "BALL\n",
      "mahi\n",
      "babi\n",
      "siva\n",
      "appple\n",
      "python\n",
      "ball\n"
     ]
    }
   ],
   "source": [
    "# Python program to iterate over a sequence with the help of indexing  \n",
    "tuple=(\"mahi\",\"Babi\",\"siva\",\"appple\",\"Python\",\"Ball\")\n",
    "for s in range(2*len(tuple)):  #by uusing indx method \n",
    "    if s<=5:                    # len multiply with 2 to iterate loop twice\n",
    "        print(tuple[s].upper())\n",
    "    \n",
    "    else:\n",
    "        print(tuple[s-len(tuple)].lower())\n"
   ]
  },
  {
   "cell_type": "code",
   "execution_count": 1,
   "metadata": {},
   "outputs": [
    {
     "name": "stdout",
     "output_type": "stream",
     "text": [
      "14\n"
     ]
    }
   ],
   "source": [
    "# Code to find the sum of squares of each element of the list using for loop \n",
    "Num=[1,2,3]\n",
    "sum=0\n",
    "for n in Num:\n",
    "    sum=sum+n**2\n",
    "print(sum)"
   ]
  },
  {
   "cell_type": "code",
   "execution_count": 12,
   "metadata": {},
   "outputs": [
    {
     "name": "stdout",
     "output_type": "stream",
     "text": [
      "0\n",
      "1\n",
      "2\n",
      "3\n",
      "4\n",
      "5\n",
      "[1, 2, 3, 4, 5, 6, 3, 4, 5, 6, 7, 8]\n"
     ]
    }
   ],
   "source": [
    "#add elements to end of the list by using index and and range fun:\n",
    "list=[1,2,3,4,5,6,]\n",
    "for i in range(len(list)): #len fun returns length of the string\n",
    "    print(i)\n",
    "    list.append(list[i]+2)\n",
    "print(list)"
   ]
  },
  {
   "cell_type": "code",
   "execution_count": 13,
   "metadata": {},
   "outputs": [
    {
     "name": "stdout",
     "output_type": "stream",
     "text": [
      "14\n"
     ]
    }
   ],
   "source": [
    "# Code to find the sum of squares of each element of the list using for loop  and range:\n",
    "#make list and perform arthematical operation than print sum:\n",
    "num_list=[1,2,3]\n",
    "sum=0\n",
    "for i in range(len(num_list)):\n",
    "    sum=sum+num_list[i]**2\n",
    "print(sum)"
   ]
  },
  {
   "cell_type": "code",
   "execution_count": 24,
   "metadata": {},
   "outputs": [
    {
     "name": "stdout",
     "output_type": "stream",
     "text": [
      "ram is  The Student name not found in our records\n"
     ]
    }
   ],
   "source": [
    "# code to print marks of a student from the record, read student name as input \n",
    "student_Name=input(\"enter student name:\")\n",
    "student_Records={\"Mahi\":200,\"Babi\":250,\"Ram\":300}\n",
    "for name in student_Records:\n",
    "    if str(name)==student_Name:\n",
    "        print(student_Records[name])\n",
    "        break\n",
    "else:\n",
    "   print(student_Name+ \" is\",\"The Student name not found in our records\")"
   ]
  },
  {
   "cell_type": "code",
   "execution_count": 13,
   "metadata": {},
   "outputs": [
    {
     "name": "stdout",
     "output_type": "stream",
     "text": [
      "invalid input\n"
     ]
    }
   ],
   "source": [
    "#check a variale in the list\n",
    "user_entry=input(\"enter the value\")\n",
    "list=[1,2,3,4,5,6,7,\"hi\"]\n",
    "for n in list:\n",
    "     if str(n)==user_entry:\n",
    "        print(\"user enter data is in the string\",n)\n",
    "        break\n",
    "else:\n",
    "     print(\"invalid input\")"
   ]
  },
  {
   "cell_type": "code",
   "execution_count": 15,
   "metadata": {},
   "outputs": [
    {
     "name": "stdout",
     "output_type": "stream",
     "text": [
      "prime no\n"
     ]
    }
   ],
   "source": [
    "#read a number and check if it is prime or not.\n",
    "Num=int(input(\"Enter no:\"))\n",
    "for n in range(2,Num):        \n",
    "    if Num%n==0:\n",
    "        print(\"not prime no\")\n",
    "        break\n",
    "else:\n",
    "    print(\"prime no\")"
   ]
  },
  {
   "cell_type": "code",
   "execution_count": 4,
   "metadata": {},
   "outputs": [
    {
     "name": "stdout",
     "output_type": "stream",
     "text": [
      "[50, 48, 46, 44, 42, 40, 38, 36, 34, 32, 30, 28, 26, 24, 22, 20, 18, 16, 14, 12, 10, 8, 6]\n",
      "[-10, -15]\n",
      "[-2, -1, 0, 1, 2, 3, 4, 5, 6, 7, 8, 9]\n",
      "[-2, -3, -4, -5, -6, -7, -8, -9]\n"
     ]
    }
   ],
   "source": [
    "#Check negative value in range() #range fun automatically increase +1, when we we are not assigned any step value\n",
    "print(list(range(50,4,-2)))\n",
    "print(list(range(-10,-20, -5)))\n",
    "print(list(range(-2,10)))\n",
    "print(list(range(-2,-10,-1)))\n"
   ]
  },
  {
   "cell_type": "code",
   "execution_count": 6,
   "metadata": {},
   "outputs": [
    {
     "name": "stdout",
     "output_type": "stream",
     "text": [
      "X and Y values are 98 100\n",
      "[98, 99]\n"
     ]
    }
   ],
   "source": [
    "\n",
    "#read, x, y and print number starting from x - 2 till y/5\n",
    "\n",
    "# x=10\n",
    "# y=20\n",
    "\n",
    "# print(x-2)\n",
    "\n",
    "list=[]\n",
    "X=int(input(\"enter x value\"))-2\n",
    "Y=int(input(\"enter y value\"))//5\n",
    "print(\"X and Y values are\",X,Y)\n",
    "step=1\n",
    "if X>Y:\n",
    "    step=-1\n",
    "for seq in range(X,Y,step):\n",
    "    list.append(seq)\n",
    "print(list)\n"
   ]
  },
  {
   "cell_type": "code",
   "execution_count": 7,
   "metadata": {},
   "outputs": [
    {
     "name": "stdout",
     "output_type": "stream",
     "text": [
      "Not a prime\n"
     ]
    }
   ],
   "source": [
    "#print a prime no 2nd method\n",
    "a=10\n",
    "c=0\n",
    "for x in range(1,a+1):\n",
    "    if a%x==0:\n",
    "        c+=1\n",
    "if c>2 or c<2:\n",
    "    print(\"Not a prime\")\n",
    "elif(c==2):\n",
    "    print(\"prime\")\n",
    "\n"
   ]
  },
  {
   "cell_type": "code",
   "execution_count": 8,
   "metadata": {},
   "outputs": [
    {
     "name": "stdout",
     "output_type": "stream",
     "text": [
      "2\n",
      "4\n",
      "6\n",
      "8\n",
      "10\n",
      "12\n",
      "14\n",
      "16\n",
      "18\n",
      "20\n",
      "count of the no's 10\n"
     ]
    }
   ],
   "source": [
    "#print 1st n even no's reading n as input:\n",
    "no_even=int(input(\"enter the no\"))\n",
    "c=0\n",
    "for n in range(1,(no_even+1)*2):\n",
    "    if n%2==0:\n",
    "       c+=1\n",
    "       print(n)\n",
    "print(\"count of the no's\",c)"
   ]
  },
  {
   "cell_type": "code",
   "execution_count": 10,
   "metadata": {},
   "outputs": [
    {
     "name": "stdout",
     "output_type": "stream",
     "text": [
      "3\n",
      "string rveverse: 101\n",
      "palindrome\n"
     ]
    }
   ],
   "source": [
    "#palindrome example\n",
    "\n",
    "string=\"101\"\n",
    "length=len(string)\n",
    "new=\"\"\n",
    "print(length)\n",
    "for n in range(length-1,-1,-1):\n",
    "    new=new+string[n]\n",
    "print(\"string rveverse:\",new)\n",
    "if string==new:\n",
    "    print(\"palindrome\")\n",
    "else:\n",
    "    print(\"Not a palindrome\")"
   ]
  },
  {
   "cell_type": "code",
   "execution_count": 3,
   "metadata": {},
   "outputs": [
    {
     "name": "stdout",
     "output_type": "stream",
     "text": [
      "1 x 1 = 1\n",
      "1 x 2 = 2\n",
      "1 x 3 = 3\n",
      "1 x 4 = 4\n",
      "1 x 5 = 5\n",
      "1 x 6 = 6\n",
      "1 x 7 = 7\n",
      "1 x 8 = 8\n",
      "1 x 9 = 9\n",
      "1 x 10 = 10\n",
      "\n",
      "\n",
      "2 x 1 = 2\n",
      "2 x 2 = 4\n",
      "2 x 3 = 6\n",
      "2 x 4 = 8\n",
      "2 x 5 = 10\n",
      "2 x 6 = 12\n",
      "2 x 7 = 14\n",
      "2 x 8 = 16\n",
      "2 x 9 = 18\n",
      "2 x 10 = 20\n",
      "\n",
      "\n",
      "3 x 1 = 3\n",
      "3 x 2 = 6\n",
      "3 x 3 = 9\n",
      "3 x 4 = 12\n",
      "3 x 5 = 15\n",
      "3 x 6 = 18\n",
      "3 x 7 = 21\n",
      "3 x 8 = 24\n",
      "3 x 9 = 27\n",
      "3 x 10 = 30\n",
      "\n",
      "\n",
      "4 x 1 = 4\n",
      "4 x 2 = 8\n",
      "4 x 3 = 12\n",
      "4 x 4 = 16\n",
      "4 x 5 = 20\n",
      "4 x 6 = 24\n",
      "4 x 7 = 28\n",
      "4 x 8 = 32\n",
      "4 x 9 = 36\n",
      "4 x 10 = 40\n",
      "\n",
      "\n",
      "5 x 1 = 5\n",
      "5 x 2 = 10\n",
      "5 x 3 = 15\n",
      "5 x 4 = 20\n",
      "5 x 5 = 25\n",
      "5 x 6 = 30\n",
      "5 x 7 = 35\n",
      "5 x 8 = 40\n",
      "5 x 9 = 45\n",
      "5 x 10 = 50\n",
      "\n",
      "\n"
     ]
    }
   ],
   "source": [
    "#Nested for loop\n",
    "\n",
    "n = 5\n",
    "for tableNumber in range(1, n+1):\n",
    "    for multiplier in range(1, 11):\n",
    "        # print(tableNumber,\"x\", multiplier,\"=\", tableNumber*multiplier)\n",
    "        print(f\"{tableNumber} x {multiplier} = {tableNumber * multiplier}\")\n",
    "    print(\"\\n\")\n"
   ]
  },
  {
   "cell_type": "code",
   "execution_count": 1,
   "metadata": {},
   "outputs": [
    {
     "name": "stdout",
     "output_type": "stream",
     "text": [
      "M count is 1\n",
      "a count is 2\n",
      "h count is 1\n",
      "e count is 1\n",
      "s count is 1\n",
      "w count is 1\n",
      "a count is 2\n",
      "r count is 1\n",
      "i count is 2\n",
      "i count is 2\n"
     ]
    }
   ],
   "source": [
    "#read a string and find the occurence of each letter and print it.\n",
    "inputString = \"Maheswari\"\n",
    "for checkLetter in inputString:\n",
    "    count = 0\n",
    "    for letter in inputString:\n",
    "        if(checkLetter == letter):\n",
    "            count = count + 1\n",
    "            \n",
    "    print(f\"{checkLetter} count is {count}\")"
   ]
  },
  {
   "cell_type": "code",
   "execution_count": 31,
   "metadata": {},
   "outputs": [
    {
     "name": "stdout",
     "output_type": "stream",
     "text": [
      "* * * \n",
      "* * * \n",
      "* * * \n",
      "* * * \n",
      "* * * \n"
     ]
    }
   ],
   "source": [
    "# print star pattern in n rows and m columns\n",
    "# rows, columns 5, 3\n",
    "rows = 5\n",
    "columns= 3\n",
    "for row in range(rows):\n",
    "    for col in range(columns):\n",
    "        print(\"*\",end=\" \")\n",
    "    print(\"\")"
   ]
  },
  {
   "cell_type": "code",
   "execution_count": 42,
   "metadata": {},
   "outputs": [
    {
     "name": "stdout",
     "output_type": "stream",
     "text": [
      "* * * \n",
      "* * * \n",
      "* * * \n"
     ]
    }
   ],
   "source": [
    "\n",
    "# create a m x n matrix and print in the matrix form\n",
    "list\n",
    "m=int(input(\"enter no of rows\"))\n",
    "n=int(input(\"enter no of col\"))\n",
    "for col in range(m):\n",
    "    for row in range(n):\n",
    "        print(\"*\",end=\" \")\n",
    "    print(\"\")"
   ]
  },
  {
   "cell_type": "code",
   "execution_count": 35,
   "metadata": {},
   "outputs": [
    {
     "name": "stdout",
     "output_type": "stream",
     "text": [
      "1 0 0 \n",
      "0 1 0 \n",
      "0 0 1 \n"
     ]
    }
   ],
   "source": [
    "# create a 3x3 identity matrix and print in the matrix form\n",
    "\n",
    "matrix=[[1,0,0],\n",
    "        [0,1,0],\n",
    "        [0,0,1]\n",
    "        ]\n",
    "i=j=3\n",
    "\n",
    "for row in range(0,j):\n",
    "      for col in range(0,i):\n",
    "            print(matrix[row][col], end=\" \")\n",
    "      print(\"\")\n"
   ]
  },
  {
   "cell_type": "code",
   "execution_count": 19,
   "metadata": {},
   "outputs": [
    {
     "name": "stdout",
     "output_type": "stream",
     "text": [
      "[[0, 1, 2, 3, 4, 5], [1, 2, 3, 4, 5, 6], [2, 3, 4, 5, 6, 7], [3, 4, 5, 6, 7, 8]]\n",
      "0 1 2 3 4 5 \n",
      "1 2 3 4 5 6 \n",
      "2 3 4 5 6 7 \n",
      "3 4 5 6 7 8 \n"
     ]
    }
   ],
   "source": [
    "#create matrix\n",
    "Matrix=[]\n",
    "new_matrix=[]\n",
    "row=int(input(\"enter the row value\")) #3\n",
    "col=int(input(\"enter the col value\")) #2\n",
    "for n in range(0,row):\n",
    "    Matrix.append([])\n",
    "    for m in range(0, col):\n",
    "        Matrix[n].append(n+m)\n",
    "print(Matrix)\n",
    "for i in range(row):\n",
    "    for j in range(col):\n",
    "        print(Matrix[i][j],end=\" \")\n",
    "    print(\"\")"
   ]
  },
  {
   "cell_type": "code",
   "execution_count": 17,
   "metadata": {},
   "outputs": [
    {
     "name": "stdout",
     "output_type": "stream",
     "text": [
      "[1, 2, 3, 3, 4, 5]\n",
      "[1, 2, 3, [3, 4, 5]]\n"
     ]
    }
   ],
   "source": [
    "list1=[1,2,3]\n",
    "list2=[3,4,5]\n",
    "con=list1+list2\n",
    "print(con)\n",
    "list1.append(list2)\n",
    "print(list1)"
   ]
  },
  {
   "cell_type": "code",
   "execution_count": 2,
   "metadata": {},
   "outputs": [
    {
     "name": "stdout",
     "output_type": "stream",
     "text": [
      "large 40\n",
      "9\n",
      "[1, -2, -3, 20, 10, -5, 7, 9, 0]\n",
      "large 20\n"
     ]
    },
    {
     "data": {
      "text/plain": [
       "20"
      ]
     },
     "execution_count": 2,
     "metadata": {},
     "output_type": "execute_result"
    }
   ],
   "source": [
    "#find a largest no i n the list\n",
    "list_num=[1,-2,-3,20,10,-5,7,9,0,40]\n",
    "\n",
    "def fun():\n",
    "    b=list_num[0]\n",
    "    for i in list_num:\n",
    "        if i>b:\n",
    "            b=i\n",
    "    print(\"large\",b)\n",
    "\n",
    "value = fun()\n",
    "index = list_num.index(value)\n",
    "print(index)\n",
    "del(list_num[index])\n",
    "print(list_num)\n",
    "\n"
   ]
  },
  {
   "cell_type": "code",
   "execution_count": 12,
   "metadata": {},
   "outputs": [
    {
     "name": "stdout",
     "output_type": "stream",
     "text": [
      "70 50\n"
     ]
    }
   ],
   "source": []
  },
  {
   "cell_type": "code",
   "execution_count": 17,
   "metadata": {},
   "outputs": [
    {
     "name": "stdout",
     "output_type": "stream",
     "text": [
      "80 -90\n"
     ]
    }
   ],
   "source": []
  },
  {
   "cell_type": "code",
   "execution_count": null,
   "metadata": {},
   "outputs": [],
   "source": [
    "L=[23,67,89,5,4]\n",
    "n=input(\"Enter the no: \")\n",
    "for i in range(0,len(L)):\n",
    "    "
   ]
  }
 ],
 "metadata": {
  "kernelspec": {
   "display_name": "Python 3",
   "language": "python",
   "name": "python3"
  },
  "language_info": {
   "codemirror_mode": {
    "name": "ipython",
    "version": 3
   },
   "file_extension": ".py",
   "mimetype": "text/x-python",
   "name": "python",
   "nbconvert_exporter": "python",
   "pygments_lexer": "ipython3",
   "version": "3.10.11"
  },
  "orig_nbformat": 4
 },
 "nbformat": 4,
 "nbformat_minor": 2
}
