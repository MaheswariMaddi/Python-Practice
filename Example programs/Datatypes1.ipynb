{
 "cells": [
  {
   "cell_type": "code",
   "execution_count": 95,
   "metadata": {},
   "outputs": [
    {
     "name": "stdout",
     "output_type": "stream",
     "text": [
      "Confirm type of identifier True False\n",
      "Type fun gives datatype of variable: <class 'int'> \n",
      " <class 'str'> <class 'complex'> <class 'float'>\n",
      "Complex type (2+3j)\n",
      "Adding to complex 6\n"
     ]
    }
   ],
   "source": [
    "a=2\n",
    "b='a'\n",
    "c=2+3j\n",
    "d=2.345\n",
    "print(\"Confirm type of identifier\",isinstance(a,int),isinstance(b,int))\n",
    "print(\"Type fun gives datatype of variable:\",type(a),\"\\n\",\n",
    "      type(b),type(c),type(d))\n",
    "j=1\n",
    "print(\"Complex type\",c)\n",
    "c=2+(3+j)\n",
    "print(\"Adding to complex\",c)"
   ]
  },
  {
   "cell_type": "code",
   "execution_count": 121,
   "metadata": {},
   "outputs": [
    {
     "name": "stdout",
     "output_type": "stream",
     "text": [
      "hi          \n",
      "how are you\n",
      "hi          \n",
      "how are you\n",
      "\n",
      "Concatination of 2 strings:\n",
      " hi          \n",
      "how are you\n",
      " hi          \n",
      "how are you\n",
      "Access some part of string: hi   \n"
     ]
    }
   ],
   "source": [
    "\n",
    "string=\"\"\"hi          \n",
    "how are you\"\"\" #printing  string as it is#\n",
    "print((string+\"\\n\")*2)\n",
    "print(\"Concatination of 2 strings:\\n\",string+\"\\n\",string)\n",
    "print(\"Access some part of string:\",string[0:5])\n"
   ]
  },
  {
   "cell_type": "code",
   "execution_count": 5,
   "metadata": {},
   "outputs": [
    {
     "name": "stdout",
     "output_type": "stream",
     "text": [
      "<class 'list'>\n",
      "-20\n",
      "[30.6, 'a', (2+3j)]\n",
      "Adding: ['Mahi', 100, -20, 30.6, 'a', (2+3j), 'Mahi', 100, -20, 30.6, 'a', (2+3j)]\n",
      "Range : ['Mahi', 100, -20, 30.6]\n",
      "Multiply: ['Mahi', 100, -20, 30.6, 'a', (2+3j), 'Mahi', 100, -20, 30.6, 'a', (2+3j), 'Mahi', 100, -20, 30.6, 'a', (2+3j)]\n",
      "Index: 0 4\n",
      "After delection: ['Mahi', 100, -20, 'a', (2+3j)]\n",
      "Type of L2 is <class 'list'>\n",
      "Concat 2 L1s: ['Mahi', 100, -20, 'a', (2+3j), 'babi', 87, 90.0]\n",
      "<class 'list'>\n"
     ]
    }
   ],
   "source": [
    "\"\"\"List\"\"\"\n",
    "L1=[\"Mahi\",100,-20,30.6,'a',2+3j] #L1& L2 are name of the lists#\n",
    "print(type(L1))\n",
    "print(L1[2])\n",
    "print(L1[3:])\n",
    "print(\"Adding:\",L1+L1)\n",
    "print(\"Range :\",L1[0:4])\n",
    "print(\"Multiply:\",L1*3)\n",
    "print(\"Index:\",L1.index(\"Mahi\"),L1.index('a'))\n",
    "del(L1[3])\n",
    "print(\"After delection:\",L1)\n",
    "L2=[\"babi\",87,90.0]\n",
    "print(\"Type of L2 is\",type(L2))\n",
    "Add=L1+L2\n",
    "print(\"Concat 2 Lists:\",Add)\n",
    "print(type(Add))"
   ]
  },
  {
   "cell_type": "code",
   "execution_count": 1,
   "metadata": {},
   "outputs": [
    {
     "name": "stdout",
     "output_type": "stream",
     "text": [
      "<class 'tuple'>\n",
      "Addng: (23, 'n', 'paython', 23, 'n', 'paython')\n",
      "Multiplication (23, 'n', 'paython', 23, 'n', 'paython')\n",
      "index of tup is  0\n",
      "paython\n",
      "Range (23, 'n', 'paython')\n",
      "helloworld\n"
     ]
    }
   ],
   "source": [
    "# TUPPLE#\n",
    "\n",
    "tup=(23,'n',\"paython\")\n",
    "print(type(tup)) \n",
    "print(\"Addng:\",tup+tup)\n",
    "print(\"Multiplication\",tup*2)\n",
    "print(\"index of tup is \",tup.index(23))\n",
    "print(tup[2])\n",
    "print(\"Range\",tup[0:5])\n",
    "string='hello\\\n",
    "world'  # \\ used for to write string diffrnt line\n",
    "print(string)\n",
    "\n",
    "\n",
    "\n",
    "\n",
    "\n",
    "\n",
    "\n",
    "\n"
   ]
  },
  {
   "cell_type": "code",
   "execution_count": 15,
   "metadata": {},
   "outputs": [
    {
     "name": "stdout",
     "output_type": "stream",
     "text": [
      "<class 'set'> \n",
      " {'mahi', 21, '@', 89.8, 45, -1}\n",
      "{'mahi', 'babi', 21, '@', 89.8, 45, -1}\n",
      "{'mahi', 'babi', 21, '@', 89.8, 45}\n",
      "mahi\n",
      "babi\n",
      "21\n",
      "@\n",
      "89.8\n",
      "45\n"
     ]
    }
   ],
   "source": [
    "#example for set\n",
    "set1=set() #creating empty set\n",
    "set_data={\"mahi\",21,45,89.8,-1,'@'}\n",
    "print(type(set_data),\"\\n\",set_data)\n",
    "set_data.add(\"babi\")\n",
    "print(set_data)\n",
    "set_data.remove(-1)\n",
    "print(set_data)\n",
    "for variables in set_data:\n",
    "    print(variables)"
   ]
  },
  {
   "cell_type": "code",
   "execution_count": null,
   "metadata": {},
   "outputs": [],
   "source": [
    "# will remove duplicates auttomatically\n",
    "# set is order less\n",
    "# set values primitive data types\n",
    "a = {1, 2, \"dfsa\", 1.2, -1, 1+3j, True } \n",
    "print(a)\n",
    "\n",
    "a = set()\n",
    "b = {1}\n",
    "\n",
    "b.add(2)\n",
    "b.remove(1)\n",
    "print(b)"
   ]
  },
  {
   "cell_type": "code",
   "execution_count": 1,
   "metadata": {},
   "outputs": [
    {
     "name": "stdout",
     "output_type": "stream",
     "text": [
      "[56, 89, 45, 23, 98]\n",
      "[56, 89, 45, 23]\n",
      "[98]\n",
      "[56, 89, 45, 23, 5, 98]\n"
     ]
    }
   ],
   "source": [
    "# hwo to add an item in differnt possitons in list, delete also\n",
    "\n",
    "list=[56,89,45,23,98,67]\n",
    "del(list[5])\n",
    "print(list)\n",
    "i=int(input(\"enter the position of list\"))\n",
    "v=int(input(\"enter value:\"))\n",
    "c=[v]\n",
    "new=list[:i-1]\n",
    "new1=list[i-1:]\n",
    "print(new)\n",
    "print(new1)\n",
    "list=new+c+new1\n",
    "print(list)"
   ]
  },
  {
   "cell_type": "code",
   "execution_count": null,
   "metadata": {},
   "outputs": [],
   "source": [
    "englishDict = {\n",
    "\"dog\": \"Its a pet animal\", \n",
    "\"tiger\": \"Its a wild animal\",\n",
    "\"cow\": \"Its a herbivourous animal\",\n",
    "1: \"its a number\",\n",
    "\"A\": \"A is a first capital letter\",\n",
    "\"letter\": \"A is letter\",\n",
    "\"first number\": 0,\n",
    "1.2: \"decimal number\",\n",
    "-1: \"negative number\",\n",
    "\"alpha list\": [\"a\", \"b\"],\n",
    "1+3j: \"dfsa\",\n",
    "True: \"bool value\",\n",
    "\"nest dict\": {\n",
    "    \"a\": \"letter a\"\n",
    "}\n",
    "\n",
    "}\n",
    "\n",
    "# print(englishDict)\n",
    "c = englishDict[\"nest dict\"][\"a\"]\n",
    "\n",
    "print(c)\n",
    "\n",
    "lis1 = [1,2, \"fdsa\", [\"fda\", \"1\"], (1,2), True, 2.0]\n",
    "\n",
    "a = lis1[3][0]  #[1,2, \"fdsa\", [\"fda\", \"1\"], (1,2), True, 2.0][3] -> [\"fda\", \"1\"][0] -> \"fda\"\n",
    "\n",
    "print(\"nested list\", a)\n",
    "\n",
    "store_key=englishDict.keys()\n",
    "print(\"data type of keys\",type(store_key))\n",
    "print(\"dict keys are \", type(englishDict.keys())) # get the data type and print key one by one in a seperate line\n",
    "\n",
    "print(\"dict values are \", englishDict.values())\n",
    "\n",
    "#how to add an item in dict, how to remove dict"
   ]
  },
  {
   "cell_type": "code",
   "execution_count": null,
   "metadata": {},
   "outputs": [],
   "source": [
    "import keyword\n",
    "\n",
    "print(len(keyword.kwlist))"
   ]
  }
 ],
 "metadata": {
  "kernelspec": {
   "display_name": "Python 3",
   "language": "python",
   "name": "python3"
  },
  "language_info": {
   "codemirror_mode": {
    "name": "ipython",
    "version": 3
   },
   "file_extension": ".py",
   "mimetype": "text/x-python",
   "name": "python",
   "nbconvert_exporter": "python",
   "pygments_lexer": "ipython3",
   "version": "3.10.11"
  },
  "orig_nbformat": 4
 },
 "nbformat": 4,
 "nbformat_minor": 2
}
