{
 "cells": [
  {
   "cell_type": "code",
   "execution_count": 3,
   "metadata": {},
   "outputs": [
    {
     "name": "stdout",
     "output_type": "stream",
     "text": [
      "even no\n"
     ]
    }
   ],
   "source": [
    "# Even no program print 1st 10 numbers.NC\n",
    "a=int(input(\"enter the no:\"))\n",
    "c=a%2\n",
    "if(c==0):\n",
    "    print(\"even no\")\n",
    "elif(c!=0):\n",
    "    print(\"odd no\")"
   ]
  },
  {
   "cell_type": "code",
   "execution_count": null,
   "metadata": {},
   "outputs": [],
   "source": [
    "# print largest string in the given program\n",
    "\n",
    "\n",
    "a=input(\"enter the 1st string:\")\n",
    "print(a)\n",
    "b=input(\"enter 2nd string:\")\n",
    "print(b)\n",
    "c=input(\"enter 3rd string:\")\n",
    "print(c)\n",
    "d=\"\"\" The largest string is\n",
    "\"\"\"\n",
    "first_string=len(a)\n",
    "second_string=len(b)\n",
    "third_string=len(c)\n",
    "if(first_string>second_string and first_string>second_string):\n",
    "    print(d+\" first string:\\n\",a)\n",
    "elif(second_string>third_string and second_string>first_string):\n",
    "    print(d+ b)\n",
    "elif(third_string>first_string and third_string>second_string):\n",
    "    print(d+ c)\n",
    "else:\n",
    "    print(\"three strings are same length\")\n",
    "    "
   ]
  },
  {
   "cell_type": "code",
   "execution_count": 21,
   "metadata": {},
   "outputs": [
    {
     "name": "stdout",
     "output_type": "stream",
     "text": [
      "your age is: 17\n",
      "you are Minor\n"
     ]
    }
   ],
   "source": [
    "#check person eligibility of age for vote\n",
    "\n",
    "#age=18 or >18\n",
    "#<18 minor \n",
    "# if they enter special charcter print invalid NC\n",
    "\n",
    "age=int(input(\"enter the age:\"))\n",
    "print(\"your age is:\",age)\n",
    "if(age>=18):\n",
    "    print(\"you are Major\")\n",
    "elif(age<18):\n",
    "    print(\"you are Minor\")"
   ]
  },
  {
   "cell_type": "code",
   "execution_count": 25,
   "metadata": {},
   "outputs": [
    {
     "name": "stdout",
     "output_type": "stream",
     "text": [
      "Welcome\n"
     ]
    }
   ],
   "source": [
    "#Check username and password\n",
    "user_Name=\"Maheswari\"\n",
    "Password=\"123456\"\n",
    "capcha=\"hiii\"\n",
    "a=input(\"enter user name\")\n",
    "b=input(\"password\")\n",
    "\n",
    "if(user_Name==a and Password==b):\n",
    "    c=input(\"Enter capcha: \"+capcha)\n",
    "    if(capcha==c):\n",
    "        print(\"Welcome\")\n",
    "    else:\n",
    "        print(\"invalid capcha\")    \n",
    "elif(user_Name==a and Password!=b):\n",
    "    print(\"invalid Password\")\n",
    "elif(user_Name!=a):\n",
    "    print(\"inavlid Credentials\")\n",
    "    \n"
   ]
  },
  {
   "cell_type": "code",
   "execution_count": 38,
   "metadata": {},
   "outputs": [
    {
     "ename": "ValueError",
     "evalue": "could not convert string to float: 'no'",
     "output_type": "error",
     "traceback": [
      "\u001b[1;31m---------------------------------------------------------------------------\u001b[0m",
      "\u001b[1;31mValueError\u001b[0m                                Traceback (most recent call last)",
      "Cell \u001b[1;32mIn[38], line 7\u001b[0m\n\u001b[0;32m      1\u001b[0m \u001b[39m#A>=85 to 100\u001b[39;00m\n\u001b[0;32m      2\u001b[0m \u001b[39m#B>=70 to 84\u001b[39;00m\n\u001b[0;32m      3\u001b[0m \u001b[39m#C>=60 to 69\u001b[39;00m\n\u001b[0;32m      4\u001b[0m \u001b[39m#D>=30 to 59\u001b[39;00m\n\u001b[0;32m      5\u001b[0m \u001b[39m#F<30  to 0\u001b[39;00m\n\u001b[0;32m      6\u001b[0m \u001b[39m# >100 <0 invalid\u001b[39;00m\n\u001b[1;32m----> 7\u001b[0m marks\u001b[39m=\u001b[39m\u001b[39mfloat\u001b[39;49m(\u001b[39minput\u001b[39;49m(\u001b[39m\"\u001b[39;49m\u001b[39menter student marks\u001b[39;49m\u001b[39m\"\u001b[39;49m))\n\u001b[0;32m      8\u001b[0m \u001b[39mprint\u001b[39m(marks)\n\u001b[0;32m      9\u001b[0m \u001b[39mif\u001b[39;00m(marks\u001b[39m>\u001b[39m\u001b[39m=\u001b[39m\u001b[39m85\u001b[39m \u001b[39mand\u001b[39;00m marks\u001b[39m<\u001b[39m\u001b[39m=\u001b[39m\u001b[39m100\u001b[39m):\n",
      "\u001b[1;31mValueError\u001b[0m: could not convert string to float: 'no'"
     ]
    }
   ],
   "source": [
    "#A>=85 to 100\n",
    "#B>=70 to 84\n",
    "#C>=60 to 69\n",
    "#D>=30 to 59\n",
    "#F<30  to 0\n",
    "# >100 <0 invalid\n",
    "marks=float(input(\"enter student marks\"))\n",
    "print(marks)\n",
    "if(marks>=85 and marks<=100):\n",
    "    print(\"A Grade\")\n",
    "elif(marks>=70 and marks<85):\n",
    "    print(\"B Grade\")\n",
    "elif(marks>=60 and marks<70):\n",
    "    print(\"C Grade\")\n",
    "elif(marks>=30 and marks<60):\n",
    "    print(\" D grade\")\n",
    "elif(marks>=0 and marks<30):\n",
    "    print(\"fail\")\n",
    "elif(marks>100 or marks<0):\n",
    "    print(\"invalid entry\")"
   ]
  }
 ],
 "metadata": {
  "kernelspec": {
   "display_name": "Python 3",
   "language": "python",
   "name": "python3"
  },
  "language_info": {
   "codemirror_mode": {
    "name": "ipython",
    "version": 3
   },
   "file_extension": ".py",
   "mimetype": "text/x-python",
   "name": "python",
   "nbconvert_exporter": "python",
   "pygments_lexer": "ipython3",
   "version": "3.10.11"
  },
  "orig_nbformat": 4
 },
 "nbformat": 4,
 "nbformat_minor": 2
}
