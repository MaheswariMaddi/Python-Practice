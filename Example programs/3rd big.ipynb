{
 "cells": [
  {
   "cell_type": "code",
   "execution_count": 17,
   "metadata": {},
   "outputs": [
    {
     "name": "stdout",
     "output_type": "stream",
     "text": [
      "third max is: 100\n"
     ]
    }
   ],
   "source": [
    "list_num=[60,59,25,57,9,3,98,19,100,203]\n",
    "big=list_num[0]\n",
    "second_max=list_num[1]\n",
    "third_max=list_num[2]\n",
    "for i in list_num:\n",
    "    if (i>big):\n",
    "        second_max=big\n",
    "        third_max=second_max\n",
    "        big=i\n",
    "    if(i>second_max):\n",
    "        third_max=second_max\n",
    "        second_max=i\n",
    "    elif(i>third_max):\n",
    "        third_max=i\n",
    "print(\"third max is:\",third_max)"
   ]
  }
 ],
 "metadata": {
  "kernelspec": {
   "display_name": "Python 3",
   "language": "python",
   "name": "python3"
  },
  "language_info": {
   "codemirror_mode": {
    "name": "ipython",
    "version": 3
   },
   "file_extension": ".py",
   "mimetype": "text/x-python",
   "name": "python",
   "nbconvert_exporter": "python",
   "pygments_lexer": "ipython3",
   "version": "3.10.11"
  },
  "orig_nbformat": 4
 },
 "nbformat": 4,
 "nbformat_minor": 2
}
